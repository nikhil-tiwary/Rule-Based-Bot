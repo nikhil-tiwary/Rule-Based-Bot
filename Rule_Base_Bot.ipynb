{
  "nbformat": 4,
  "nbformat_minor": 0,
  "metadata": {
    "colab": {
      "provenance": [],
      "authorship_tag": "ABX9TyM2Hk0e+Sb38YfBME12z2Dn",
      "include_colab_link": true
    },
    "kernelspec": {
      "name": "python3",
      "display_name": "Python 3"
    },
    "language_info": {
      "name": "python"
    }
  },
  "cells": [
    {
      "cell_type": "markdown",
      "metadata": {
        "id": "view-in-github",
        "colab_type": "text"
      },
      "source": [
        "<a href=\"https://colab.research.google.com/github/nikhil-tiwary/Rule-Based-Bot/blob/main/Rule_Base_Bot.ipynb\" target=\"_parent\"><img src=\"https://colab.research.google.com/assets/colab-badge.svg\" alt=\"Open In Colab\"/></a>"
      ]
    },
    {
      "cell_type": "code",
      "execution_count": 1,
      "metadata": {
        "id": "MSkM1aBManLr"
      },
      "outputs": [],
      "source": [
        "import re \n",
        "import random"
      ]
    },
    {
      "cell_type": "code",
      "source": [
        "class RuleBot:\n",
        "  ### Potential negative Reponses\n",
        "  negative_responses=(\"no\",\"nope\",\"nah\",\"naw\",\"not a chance\",\"sorry\")\n",
        "  ### Exit conversation keywords\n",
        "  exit_commands = (\"quit\",\"pause\",\"exit\",\"goodbye\",\"bye\",\"later\")\n",
        "  ### Random starter question\n",
        "  random_questions = (\n",
        "      \"Why are you here? \",\n",
        "      \"Are there many humans like you? \",\n",
        "      \"What do you consume for sustenance? \",\n",
        "      \"Is there intelligent life on this planet? \",\n",
        "      \"Does earth have a Leader? \",\n",
        "      \"What planets have you visited? \",\n",
        "      \"What technology do you have on this planet? \"\n",
        "  )\n",
        "\n",
        "  def __init__(self):\n",
        "    self.alienbabble = {'describe_planet_intent':r'.*\\s*your planet.*',\n",
        "                        'answer_why_intent':r'why\\sare.*',\n",
        "                        'about_intelligent':r'.*\\s*intelligent'       \n",
        "                        }\n",
        "    \n",
        "\n",
        "  def greet(self):\n",
        "    self.name = input(\"What is your name?\\n\")\n",
        "    will_help = input(\n",
        "        f\"Hi {self.name}, I am Rule-Bot. Will you help me to learn about your palnet?\\n\")\n",
        "    if will_help in self.negative_responses:\n",
        "      print(\"Ok, have a nice Earth Day!\")\n",
        "      return\n",
        "    self.chat()\n",
        "\n",
        "\n",
        "  def make_exit(self,reply):\n",
        "    for command in self.exit_commands:\n",
        "      if reply==command:\n",
        "        print(\"Okay, have a nice Earth Day!\")\n",
        "        return True\n",
        "\n",
        "\n",
        "  def chat(self):\n",
        "    reply = input(random.choice(self.random_questions)).lower()\n",
        "    while not self.make_exit(reply):\n",
        "      reply = input(self.match_reply(reply))\n",
        "\n",
        "\n",
        "  def match_reply(self,reply):\n",
        "    for key, value in self.alienbabble.items():\n",
        "      intent = key\n",
        "      regex_patten = value\n",
        "      found_match = re.match(regex_patten, reply)\n",
        "      if found_match and intent == 'describe_planet_intent':\n",
        "        return self.describe_planet_intent()\n",
        "      elif found_match and intent == 'answer_why_intent':\n",
        "        return self.answer_why_intent()\n",
        "      elif found_match and intent == 'about_intelligent':\n",
        "        return self.about_intelligent()\n",
        "    if not found_match:\n",
        "      return self.no_match_intent()\n",
        "    \n",
        "\n",
        "  def describe_planet_intent(self):\n",
        "    responses = (\"My planet is utopia of diverse organisms and species.\\n\",\n",
        "                 \"I am from opidipus, the capital of the Wayward Galaxies.\\n\")\n",
        "    return random.choice(responses)\n",
        "\n",
        "  def answer_why_intent(self):\n",
        "    responses = (\"I come in peace\\n\",\"I am here to collect data on your planet and its in habitants\\n\",\n",
        "                 \"I heard the coffee is good\\n\")\n",
        "    return random.choice(responses)\n",
        "\n",
        "  def about_intelligent(self):\n",
        "    responses = (\"Intelligent is a person who is very intelligent.\\n\",\n",
        "                 \"Intelligent is having or indicating a high or satisfactory degree of intelligence and mental capacity.\\n\")\n",
        "    return random.choice(responses)\n",
        "\n",
        "  def no_match_intent(self):\n",
        "    responses = (\n",
        "        \"Please tell me more.\\n\", \"Tell me more!\\n\", \"Why do you say that?\\n\", \"I see. Can you elaborate?\\n\",\n",
        "        \"Interesting. Can you tell me more?\\n\", \"I see. How do you think?\\n\", \"Why?\\n\",\n",
        "        \"How do you think I feel when you say that?\\n\")\n",
        "    return random.choice(responses)\n",
        "AlienBot = RuleBot()\n",
        "AlienBot.greet() \n",
        "\n"
      ],
      "metadata": {
        "colab": {
          "base_uri": "https://localhost:8080/"
        },
        "id": "7sJ37SIpayQ5",
        "outputId": "1c2ee64c-50ba-488d-c5a8-32cd0d8b0b1e"
      },
      "execution_count": 8,
      "outputs": [
        {
          "output_type": "stream",
          "name": "stdout",
          "text": [
            "What is your name?\n",
            "Nikhil\n",
            "Hi Nikhil, I am Rule-Bot. Will you help me to learn about your palnet?\n",
            "No\n",
            "What technology do you have on this planet? Data Science\n",
            "Interesting. Can you tell me more?\n",
            "quit\n",
            "Okay, have a nice Earth Day!\n"
          ]
        }
      ]
    },
    {
      "cell_type": "code",
      "source": [],
      "metadata": {
        "id": "tPsp9RijlRPk"
      },
      "execution_count": null,
      "outputs": []
    }
  ]
}